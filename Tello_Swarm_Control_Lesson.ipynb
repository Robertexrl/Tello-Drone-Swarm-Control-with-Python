{
 "cells": [
  {
   "cell_type": "markdown",
   "id": "37d0196d",
   "metadata": {},
   "source": [
    "# Tello Drone Swarm Programming Lesson\n",
    "In this lesson, you will learn how to control multiple Tello drones in swarm mode using Python. We will modify a single-drone control script to manage a fleet of drones simultaneously."
   ]
  },
  {
   "cell_type": "markdown",
   "id": "ff3f0c43",
   "metadata": {},
   "source": [
    "## Prerequisites\n",
    "1. Install Python 3.\n",
    "2. Ensure all Tello drones are connected to their respective Wi-Fi networks.\n",
    "3. Install any required Python libraries (e.g., `socket` and `threading` are part of the standard library).\n",
    "4. Know the IP addresses of all drones in your swarm.\n"
   ]
  },
  {
   "cell_type": "markdown",
   "id": "383df81c",
   "metadata": {},
   "source": [
    "## Step 1: Import Libraries\n",
    "We will use Python's `socket` for communication and `threading` for managing multiple drones concurrently."
   ]
  },
  {
   "cell_type": "code",
   "execution_count": null,
   "id": "606575d3",
   "metadata": {},
   "outputs": [],
   "source": [
    "# Import the necessary modules\n",
    "import socket\n",
    "import threading\n",
    "import time"
   ]
  },
  {
   "cell_type": "markdown",
   "id": "9af422a7",
   "metadata": {},
   "source": [
    "## Step 2: Define Addresses for the Swarm\n",
    "List the IP addresses of all Tello drones in your swarm. Each drone will communicate over UDP."
   ]
  },
  {
   "cell_type": "code",
   "execution_count": null,
   "id": "1a1fa85e",
   "metadata": {},
   "outputs": [],
   "source": [
    "# Define the IP and port for each Tello in the swarm\n",
    "tello_addresses = [\n",
    "    ('192.168.10.1', 8889),  # Replace with the actual IPs of your drones\n",
    "    ('192.168.10.2', 8889),\n",
    "    ('192.168.10.3', 8889)\n",
    "]\n",
    "\n",
    "# IP and port of the local computer\n",
    "local_address = ('', 9000)\n",
    "\n",
    "# Create a UDP socket for communication\n",
    "sock = socket.socket(socket.AF_INET, socket.SOCK_DGRAM)\n",
    "sock.bind(local_address)"
   ]
  },
  {
   "cell_type": "markdown",
   "id": "d9c8ca11",
   "metadata": {},
   "source": [
    "## Step 3: Create Functions to Send and Receive Commands\n",
    "These functions will handle sending commands to all drones and receiving their responses."
   ]
  },
  {
   "cell_type": "code",
   "execution_count": null,
   "id": "5239e3f3",
   "metadata": {},
   "outputs": [],
   "source": [
    "# Send the message to all Tello drones and allow for a delay in seconds\n",
    "def send_to_all(message, delay):\n",
    "    for address in tello_addresses:\n",
    "        try:\n",
    "            sock.sendto(message.encode(), address)\n",
    "            print(f\"Sending '{message}' to {address}\")\n",
    "        except Exception as e:\n",
    "            print(f\"Error sending to {address}: {e}\")\n",
    "    time.sleep(delay)\n",
    "\n",
    "# Receive messages from Tello drones\n",
    "def receive():\n",
    "    while True:\n",
    "        try:\n",
    "            response, ip_address = sock.recvfrom(128)\n",
    "            print(f\"Received from {ip_address}: {response.decode('utf-8')}\")\n",
    "        except Exception as e:\n",
    "            print(f\"Error receiving: {e}\")\n",
    "            break"
   ]
  },
  {
   "cell_type": "markdown",
   "id": "89a5d877",
   "metadata": {},
   "source": [
    "## Step 4: Start the Receive Thread\n",
    "The receive thread will continuously listen for responses from the drones."
   ]
  },
  {
   "cell_type": "code",
   "execution_count": null,
   "id": "e1c1f791",
   "metadata": {},
   "outputs": [],
   "source": [
    "# Start a background thread to listen for responses\n",
    "receive_thread = threading.Thread(target=receive)\n",
    "receive_thread.daemon = True\n",
    "receive_thread.start()"
   ]
  },
  {
   "cell_type": "markdown",
   "id": "df04c58a",
   "metadata": {},
   "source": [
    "## Step 5: Execute Commands for the Swarm\n",
    "We will send commands to all drones to execute actions in a synchronized manner."
   ]
  },
  {
   "cell_type": "code",
   "execution_count": null,
   "id": "4b6f6f41",
   "metadata": {},
   "outputs": [],
   "source": [
    "# Put all Tello drones into command mode\n",
    "send_to_all(\"command\", 3)\n",
    "\n",
    "# Take off\n",
    "send_to_all(\"takeoff\", 5)\n",
    "\n",
    "# Go up by 100 cm\n",
    "send_to_all(\"up 100\", 4)\n",
    "\n",
    "# Perform a 360-degree clockwise yaw\n",
    "send_to_all(\"cw 360\", 5)\n",
    "\n",
    "# Land\n",
    "send_to_all(\"land\", 5)\n",
    "\n",
    "print(\"Mission completed successfully!\")\n",
    "\n",
    "# Close the socket\n",
    "sock.close()"
   ]
  },
  {
   "cell_type": "markdown",
   "id": "2c425849",
   "metadata": {},
   "source": [
    "## Conclusion\n",
    "You have successfully controlled a swarm of Tello drones using Python. You can extend this code to include more complex flight patterns or conditional commands based on drone responses."
   ]
  }
 ],
 "metadata": {},
 "nbformat": 4,
 "nbformat_minor": 5
}